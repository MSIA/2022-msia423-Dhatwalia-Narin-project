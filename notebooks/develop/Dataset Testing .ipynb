{
 "cells": [
  {
   "cell_type": "markdown",
   "id": "c8c65760",
   "metadata": {},
   "source": [
    "### Import relevant packages"
   ]
  },
  {
   "cell_type": "code",
   "execution_count": null,
   "id": "a82efff3",
   "metadata": {},
   "outputs": [],
   "source": [
    "import requests\n",
    "import pandas as pd\n",
    "import numpy as np\n",
    "import yfinance as yf\n",
    "import time\n",
    "from datetime import datetime\n",
    "from datetime import timedelta\n",
    "from datetime import date"
   ]
  },
  {
   "cell_type": "code",
   "execution_count": null,
   "id": "16ec1eb1",
   "metadata": {},
   "outputs": [],
   "source": [
    "response = requests.get(\"https://house-stock-watcher-data.s3-us-west-2.amazonaws.com/data/all_transactions.json\")"
   ]
  },
  {
   "cell_type": "code",
   "execution_count": null,
   "id": "34f00cb4",
   "metadata": {},
   "outputs": [],
   "source": [
    "dic = response.json()\n",
    "df = pd.DataFrame(dic)\n",
    "df['ticker'] = df['ticker'].replace({'BLFSD':'BLFS'})                                         \n",
    "df.head()"
   ]
  },
  {
   "cell_type": "code",
   "execution_count": null,
   "id": "a7dd03b2",
   "metadata": {},
   "outputs": [],
   "source": [
    "Nancy_pelosi = df[df['representative'] == \"Hon. Nancy Pelosi\"]\n",
    "Nancy_pelosi[Nancy_pelosi['amount'] == '$1,000,001 - $5,000,000'].head()"
   ]
  },
  {
   "cell_type": "code",
   "execution_count": null,
   "id": "e64f5d10",
   "metadata": {},
   "outputs": [],
   "source": [
    "purch_dates = df[df[\"type\"]==\"purchase\"].groupby(['transaction_date', 'ticker']).size().reset_index(name=\"freq\")\n",
    "purch_dates = purch_dates[purch_dates[\"ticker\"]!=\"--\"].reset_index(drop=True)\n",
    "purch_dates"
   ]
  },
  {
   "cell_type": "code",
   "execution_count": null,
   "id": "7f0e0d36",
   "metadata": {},
   "outputs": [],
   "source": [
    "for i in range(len(purch_dates)):\n",
    "    date_time_obj = datetime.strptime(purch_dates.loc[i,'transaction_date'], '%Y-%m-%d')\n",
    "    NextDay_date  = date_time_obj + timedelta(days=1)\n",
    "    his1mon_date  = date_time_obj - timedelta(days=30)\n",
    "    his3mon_date  = date_time_obj - timedelta(days=90)\n",
    "    his6mon_date  = date_time_obj - timedelta(days=180)\n",
    "    his9mon_date  = date_time_obj - timedelta(days=270)\n",
    "    his12mon_date = date_time_obj - timedelta(days=365)\n",
    "    purch_dates.loc[i, \"trans_date\"]    = date_time_obj\n",
    "    purch_dates.loc[i, \"next_date\"]     = NextDay_date\n",
    "    purch_dates.loc[i, \"his1mon_date\"]  = his1mon_date\n",
    "    purch_dates.loc[i, \"his3mon_date\"]  = his3mon_date\n",
    "    purch_dates.loc[i, \"his6mon_date\"]  = his6mon_date\n",
    "    purch_dates.loc[i, \"his9mon_date\"]  = his9mon_date\n",
    "    purch_dates.loc[i, \"his12mon_date\"] = his12mon_date\n",
    "    \n",
    "    his1mon_date_nxt  = date_time_obj - timedelta(days=29)\n",
    "    his3mon_date_nxt  = date_time_obj - timedelta(days=89)\n",
    "    his6mon_date_nxt  = date_time_obj - timedelta(days=179)\n",
    "    his9mon_date_nxt  = date_time_obj - timedelta(days=269)\n",
    "    his12mon_date_nxt = date_time_obj - timedelta(days=364)\n",
    "    \n",
    "    purch_dates.loc[i, \"his1mon_date_nxt\"]  = his1mon_date_nxt\n",
    "    purch_dates.loc[i, \"his3mon_date_nxt\"]  = his3mon_date_nxt\n",
    "    purch_dates.loc[i, \"his6mon_date_nxt\"]  = his6mon_date_nxt\n",
    "    purch_dates.loc[i, \"his9mon_date_nxt\"]  = his9mon_date_nxt\n",
    "    purch_dates.loc[i, \"his12mon_date_nxt\"] = his12mon_date_nxt\n",
    "\n",
    "    \n",
    "purch_dates"
   ]
  },
  {
   "cell_type": "code",
   "execution_count": null,
   "id": "6e769071",
   "metadata": {},
   "outputs": [],
   "source": [
    "day_price = pd.DataFrame(columns=[\"ticker\", \"date\",\"price\"])\n",
    "\n",
    "for i in range(len(purch_dates)):\n",
    "    ticker = yf.Ticker(purch_dates.loc[i,\"ticker\"])\n",
    "    time.sleep(0.5)\n",
    "    val = ticker.history(start=purch_dates.loc[i,\"trans_date\"],\n",
    "                         end  =purch_dates.loc[i,\"next_date\"])\n",
    "    print(i,\". \", purch_dates.loc[i,\"ticker\"], \"\\t\",val[[\"Open\",\"Close\"]],\"\\n\\n\")\n",
    "    try:\n",
    "        row = pd.DataFrame({\"ticker\":[purch_dates.loc[i,\"ticker\"]],\n",
    "                            \"date\":[purch_dates.loc[i,\"transaction_date\"]],\n",
    "                            \"price\":[val[\"Close\"].values[0]]})\n",
    "    except:\n",
    "        row = pd.DataFrame({\"ticker\":[purch_dates.loc[i,\"ticker\"]],\n",
    "                            \"date\":[purch_dates.loc[i,\"transaction_date\"]],\n",
    "                            \"price\":[np.nan]})\n",
    "    day_price = pd.concat([day_price,row], axis = 0)\n",
    "\n",
    "day_price.to_csv(\"day_price.csv\")"
   ]
  },
  {
   "cell_type": "code",
   "execution_count": null,
   "id": "d7424734",
   "metadata": {},
   "outputs": [],
   "source": [
    "current_price = pd.DataFrame(columns=[\"ticker\", \"date\",\"price\"])\n",
    "\n",
    "for i in range(len(purch_dates)):\n",
    "    ticker = yf.Ticker(purch_dates.loc[i,\"ticker\"])\n",
    "    time.sleep(0.5)\n",
    "    val = ticker.history(start=date.today().strftime(\"%Y-%m-%d\"))\n",
    "    print(i,\". \", purch_dates.loc[i,\"ticker\"], \"\\t\",val[[\"Open\",\"Close\"]],\"\\n\\n\")\n",
    "    try:\n",
    "        row = pd.DataFrame({\"ticker\":[purch_dates.loc[i,\"ticker\"]],\n",
    "                            \"date\":[date.today().strftime(\"%Y-%m-%d\")],\n",
    "                            \"price\":[val[\"Close\"].values[0]]})\n",
    "    except:\n",
    "        row = pd.DataFrame({\"ticker\":[purch_dates.loc[i,\"ticker\"]],\n",
    "                            \"date\":[date.today().strftime(\"%Y-%m-%d\")],\n",
    "                            \"price\":[np.nan]})\n",
    "    current_price = pd.concat([current_price,row], axis = 0)\n",
    "\n",
    "current_price.to_csv(\"current_price.csv\")    "
   ]
  },
  {
   "cell_type": "code",
   "execution_count": null,
   "id": "e1db7c82",
   "metadata": {},
   "outputs": [],
   "source": [
    "'''\n",
    "his1_price = pd.DataFrame(columns=[\"ticker\", \"date\",\"price\"])\n",
    "\n",
    "for i in range(len(purch_dates)):\n",
    "    ticker = yf.Ticker(purch_dates.loc[i,\"ticker\"])\n",
    "    time.sleep(0.5)\n",
    "    val = ticker.history(start=purch_dates.loc[i,\"his1mon_date\"],\n",
    "                         end  =purch_dates.loc[i,\"his1mon_date_nxt\"])\n",
    "    print(i,\". \", purch_dates.loc[i,\"ticker\"], \"\\t\",val[[\"Open\",\"Close\"]],\"\\n\\n\")\n",
    "    try:\n",
    "        row = pd.DataFrame({\"ticker\":[purch_dates.loc[i,\"ticker\"]],\n",
    "                            \"date\":[purch_dates.loc[i,\"his1mon_date\"]],\n",
    "                            \"price\":[val[\"Close\"].values[0]]})\n",
    "    except:\n",
    "        row = pd.DataFrame({\"ticker\":[purch_dates.loc[i,\"ticker\"]],\n",
    "                            \"date\":[purch_dates.loc[i,\"his1mon_date\"]],\n",
    "                            \"price\":[np.nan]})\n",
    "    his1_price = pd.concat([his1_price,row], axis = 0)\n",
    "'''"
   ]
  },
  {
   "cell_type": "markdown",
   "id": "56d21f1e",
   "metadata": {},
   "source": [
    "### Add columns and modify the df for classification"
   ]
  },
  {
   "cell_type": "code",
   "execution_count": null,
   "id": "855f7f78",
   "metadata": {},
   "outputs": [],
   "source": [
    "#Add transaction day stock-price\n",
    "new_df = pd.merge(df, \n",
    "                  day_price[~np.isnan(day_price[\"price\"])],\n",
    "                  how='inner', \n",
    "                  left_on=['ticker','transaction_date'],\n",
    "                  right_on = ['ticker','date'])\n",
    "\n",
    "new_df = new_df.rename(columns={'price': 'trans_price'})\n",
    "\n",
    "#Add current stock-price\n",
    "new_df = pd.merge(new_df, \n",
    "                  current_price[~np.isnan(current_price[\"price\"])],\n",
    "                  how='inner', \n",
    "                  left_on=['ticker'],\n",
    "                  right_on = ['ticker'])\n",
    "\n",
    "new_df = new_df.rename(columns={'price': 'current_price'})\n",
    "\n",
    "#Add Flag for response (if current price > trans_day_price)\n",
    "new_df['response'] = new_df['current_price'] > new_df['trans_price']\n",
    "\n",
    "#Filter for only purchase transactions\n",
    "new_df = new_df[new_df[\"type\"]==\"purchase\"]\n",
    "\n",
    "#Drop unnecessary columns\n",
    "new_df = new_df.drop(columns=['transaction_date',\n",
    "                              'disclosure_date',\n",
    "                              'disclosure_year',\n",
    "                              'cap_gains_over_200_usd',\n",
    "                              'asset_description',\n",
    "                              'ptr_link',\n",
    "                              'date_x',\n",
    "                              'date_y',\n",
    "                              'district'])\n",
    "\n",
    "#Create 1-hot-encoded columns\n",
    "new_df = pd.get_dummies(new_df)\n",
    "\n",
    "new_df.to_csv(\"new_df.csv\")    "
   ]
  },
  {
   "cell_type": "code",
   "execution_count": null,
   "id": "61c22ef7",
   "metadata": {},
   "outputs": [],
   "source": [
    "for i in range(len(new_df.columns)): print(i)"
   ]
  },
  {
   "cell_type": "markdown",
   "id": "0c107ae6",
   "metadata": {},
   "source": [
    "### Build model for classification"
   ]
  },
  {
   "cell_type": "code",
   "execution_count": null,
   "id": "b4f90c4e",
   "metadata": {},
   "outputs": [],
   "source": [
    "from sklearn.ensemble import RandomForestClassifier\n",
    "from sklearn.linear_model import LogisticRegression\n",
    "from sklearn import tree\n",
    "from sklearn.model_selection import train_test_split\n",
    "from sklearn.metrics import accuracy_score\n",
    "from sklearn.metrics import confusion_matrix, ConfusionMatrixDisplay\n",
    "\n",
    "X,y = new_df.drop(columns=['response']), 1*new_df['response']\n",
    "\n",
    "X_train, X_test, y_train, y_test = train_test_split(X, y, test_size=0.50, random_state=42)\n",
    "\n",
    "#clf = RandomForestClassifier(max_depth=2, random_state=0)\n",
    "#clf = LogisticRegression(random_state=0, max_iter=1000)\n",
    "clf  = tree.DecisionTreeClassifier()\n",
    "\n",
    "clf.fit(X_train, y_train)\n",
    "y_pred = clf.predict(X_test)\n",
    "\n",
    "print(\"Test set accuracy:\", accuracy_score(y_test, y_pred))"
   ]
  },
  {
   "cell_type": "code",
   "execution_count": null,
   "id": "4809d22d",
   "metadata": {},
   "outputs": [],
   "source": [
    "cm = confusion_matrix(y_test, y_pred)\n",
    "cmd = ConfusionMatrixDisplay(cm)\n",
    "cmd.plot()"
   ]
  },
  {
   "cell_type": "code",
   "execution_count": null,
   "id": "95569968",
   "metadata": {},
   "outputs": [],
   "source": [
    "new_pred = clf.predict(X_train)\n",
    "accuracy_score(y_train, new_pred)"
   ]
  },
  {
   "cell_type": "code",
   "execution_count": null,
   "id": "7acac703",
   "metadata": {},
   "outputs": [],
   "source": [
    "new_df.corr()"
   ]
  }
 ],
 "metadata": {
  "kernelspec": {
   "display_name": "Python 3 (ipykernel)",
   "language": "python",
   "name": "python3"
  },
  "language_info": {
   "codemirror_mode": {
    "name": "ipython",
    "version": 3
   },
   "file_extension": ".py",
   "mimetype": "text/x-python",
   "name": "python",
   "nbconvert_exporter": "python",
   "pygments_lexer": "ipython3",
   "version": "3.8.8"
  }
 },
 "nbformat": 4,
 "nbformat_minor": 5
}
