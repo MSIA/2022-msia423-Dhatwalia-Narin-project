{
 "cells": [
  {
   "cell_type": "code",
   "execution_count": 6,
   "metadata": {},
   "outputs": [],
   "source": [
    "from sklearn.preprocessing import OneHotEncoder\n",
    "import pandas as pd\n",
    "import numpy as np"
   ]
  },
  {
   "cell_type": "code",
   "execution_count": 32,
   "metadata": {},
   "outputs": [
    {
     "data": {
      "text/html": [
       "<div>\n",
       "<style scoped>\n",
       "    .dataframe tbody tr th:only-of-type {\n",
       "        vertical-align: middle;\n",
       "    }\n",
       "\n",
       "    .dataframe tbody tr th {\n",
       "        vertical-align: top;\n",
       "    }\n",
       "\n",
       "    .dataframe thead th {\n",
       "        text-align: right;\n",
       "    }\n",
       "</style>\n",
       "<table border=\"1\" class=\"dataframe\">\n",
       "  <thead>\n",
       "    <tr style=\"text-align: right;\">\n",
       "      <th></th>\n",
       "      <th>a</th>\n",
       "      <th>b</th>\n",
       "      <th>c</th>\n",
       "      <th>d</th>\n",
       "      <th>e</th>\n",
       "    </tr>\n",
       "  </thead>\n",
       "  <tbody>\n",
       "    <tr>\n",
       "      <th>0</th>\n",
       "      <td>1.2320</td>\n",
       "      <td>apple</td>\n",
       "      <td>bob</td>\n",
       "      <td>232</td>\n",
       "      <td>1</td>\n",
       "    </tr>\n",
       "    <tr>\n",
       "      <th>1</th>\n",
       "      <td>2.2323</td>\n",
       "      <td>banana</td>\n",
       "      <td>rob</td>\n",
       "      <td>656</td>\n",
       "      <td>0</td>\n",
       "    </tr>\n",
       "    <tr>\n",
       "      <th>2</th>\n",
       "      <td>3.4342</td>\n",
       "      <td>banana</td>\n",
       "      <td>sally</td>\n",
       "      <td>343</td>\n",
       "      <td>0</td>\n",
       "    </tr>\n",
       "  </tbody>\n",
       "</table>\n",
       "</div>"
      ],
      "text/plain": [
       "        a       b      c    d  e\n",
       "0  1.2320   apple    bob  232  1\n",
       "1  2.2323  banana    rob  656  0\n",
       "2  3.4342  banana  sally  343  0"
      ]
     },
     "execution_count": 32,
     "metadata": {},
     "output_type": "execute_result"
    }
   ],
   "source": [
    "data = pd.DataFrame({'a':[1.232,2.2323,3.4342],\n",
    "                     'b':['apple','banana','banana'],\n",
    "                     'c':['bob','rob','sally'],\n",
    "                     'd':[232,656,343],\n",
    "                     'e':[1,0,0]})\n",
    "categ = ['b','c']\n",
    "data"
   ]
  },
  {
   "cell_type": "code",
   "execution_count": 33,
   "metadata": {},
   "outputs": [
    {
     "data": {
      "text/html": [
       "<div>\n",
       "<style scoped>\n",
       "    .dataframe tbody tr th:only-of-type {\n",
       "        vertical-align: middle;\n",
       "    }\n",
       "\n",
       "    .dataframe tbody tr th {\n",
       "        vertical-align: top;\n",
       "    }\n",
       "\n",
       "    .dataframe thead th {\n",
       "        text-align: right;\n",
       "    }\n",
       "</style>\n",
       "<table border=\"1\" class=\"dataframe\">\n",
       "  <thead>\n",
       "    <tr style=\"text-align: right;\">\n",
       "      <th></th>\n",
       "      <th>0</th>\n",
       "      <th>1</th>\n",
       "      <th>2</th>\n",
       "      <th>3</th>\n",
       "      <th>4</th>\n",
       "      <th>a</th>\n",
       "      <th>d</th>\n",
       "    </tr>\n",
       "  </thead>\n",
       "  <tbody>\n",
       "    <tr>\n",
       "      <th>0</th>\n",
       "      <td>1.0</td>\n",
       "      <td>0.0</td>\n",
       "      <td>1.0</td>\n",
       "      <td>0.0</td>\n",
       "      <td>0.0</td>\n",
       "      <td>1.2320</td>\n",
       "      <td>232</td>\n",
       "    </tr>\n",
       "    <tr>\n",
       "      <th>1</th>\n",
       "      <td>0.0</td>\n",
       "      <td>1.0</td>\n",
       "      <td>0.0</td>\n",
       "      <td>1.0</td>\n",
       "      <td>0.0</td>\n",
       "      <td>2.2323</td>\n",
       "      <td>656</td>\n",
       "    </tr>\n",
       "    <tr>\n",
       "      <th>2</th>\n",
       "      <td>0.0</td>\n",
       "      <td>1.0</td>\n",
       "      <td>0.0</td>\n",
       "      <td>0.0</td>\n",
       "      <td>1.0</td>\n",
       "      <td>3.4342</td>\n",
       "      <td>343</td>\n",
       "    </tr>\n",
       "  </tbody>\n",
       "</table>\n",
       "</div>"
      ],
      "text/plain": [
       "     0    1    2    3    4       a    d\n",
       "0  1.0  0.0  1.0  0.0  0.0  1.2320  232\n",
       "1  0.0  1.0  0.0  1.0  0.0  2.2323  656\n",
       "2  0.0  1.0  0.0  0.0  1.0  3.4342  343"
      ]
     },
     "execution_count": 33,
     "metadata": {},
     "output_type": "execute_result"
    }
   ],
   "source": [
    "enc = OneHotEncoder().fit(data[categ])  # fit to categorical vars\n",
    "dummy_categ = enc.transform(data[categ])\n",
    "\n",
    "# concatenate categorical features and year of birth feature\n",
    "dummy_categ = pd.DataFrame(dummy_categ.toarray())\n",
    "features = pd.concat([dummy_categ, data.drop(categ+['e'], axis=1)], axis=1)\n",
    "features"
   ]
  },
  {
   "cell_type": "code",
   "execution_count": 37,
   "metadata": {},
   "outputs": [
    {
     "data": {
      "text/plain": [
       "Index(['0', '1', '2', '3', '4', 'a', 'd'], dtype='object')"
      ]
     },
     "execution_count": 37,
     "metadata": {},
     "output_type": "execute_result"
    }
   ],
   "source": [
    "features.columns = [str(i) for i in features.columns]\n",
    "features.columns"
   ]
  },
  {
   "cell_type": "code",
   "execution_count": 39,
   "metadata": {},
   "outputs": [
    {
     "name": "stderr",
     "output_type": "stream",
     "text": [
      "/Users/narin/opt/anaconda3/lib/python3.8/site-packages/sklearn/base.py:329: UserWarning: Trying to unpickle estimator LogisticRegression from version 1.1.1 when using version 1.0.2. This might lead to breaking code or invalid results. Use at your own risk. For more info please refer to:\n",
      "https://scikit-learn.org/stable/modules/model_persistence.html#security-maintainability-limitations\n",
      "  warnings.warn(\n",
      "/Users/narin/opt/anaconda3/lib/python3.8/site-packages/sklearn/base.py:329: UserWarning: Trying to unpickle estimator OneHotEncoder from version 1.1.1 when using version 1.0.2. This might lead to breaking code or invalid results. Use at your own risk. For more info please refer to:\n",
      "https://scikit-learn.org/stable/modules/model_persistence.html#security-maintainability-limitations\n",
      "  warnings.warn(\n"
     ]
    }
   ],
   "source": [
    "import pickle\n",
    "import pandas as pd\n",
    "import numpy as np\n",
    "import yaml\n",
    "from sklearn.model_selection import train_test_split\n",
    "from sklearn.preprocessing import OneHotEncoder\n",
    "from sklearn.linear_model import LogisticRegression\n",
    "from sklearn.metrics import roc_auc_score\n",
    "from sklearn.metrics import log_loss\n",
    "from sklearn.metrics import classification_report\n",
    "\n",
    "\n",
    "def get_model(model_path, encoder_path):\n",
    "    '''Opens pickled model and encoder for the data\n",
    "    Args:\n",
    "        model_path (str): path to pickled model\n",
    "        encoder_path (str): path to pickled encoder\n",
    "    Returns:\n",
    "        model (): binary classifier logistic regression model\n",
    "        encoder (sklearn.preprocessing._encoders.OneHotEncoder): encoder for categorical variables\n",
    "    '''\n",
    "    \n",
    "    with open(model_path, \"rb\") as input_file:\n",
    "        model = pickle.load(input_file)\n",
    "\n",
    "    with open(encoder_path, \"rb\") as input_file:\n",
    "        enc = pickle.load(input_file)\n",
    "    \n",
    "    return model, enc\n",
    "\n",
    "def transform(encoder, cat_inputs, trans_price):\n",
    "    '''Transforms raw input into encoded input for model use\n",
    "    Args:\n",
    "        encoder (sklearn.preprocessing._encoders.OneHotEncoder): encoder for categorical variables\n",
    "        cat_inputs (:obj:`list` of :obj:`str`): categorical inputs of individual\n",
    "        trans_price (float): stock price on the day of transaction\n",
    "    Returns:\n",
    "        test_new (2D :obj:`list` of :obj:`int): encoded inputs for model prediction\n",
    "    '''\n",
    "    test_new = encoder.transform([cat_inputs]).toarray()  # needs 2d array\n",
    "    test_new = np.append(test_new[0], trans_price)  # encoder returns 2d array, need element inside\n",
    "    test_new = [test_new]  # predict function expects 2d arrray\n",
    "    return test_new\n",
    "\n",
    "def predict_ind(model, encoder, cat_inputs, trans_price):\n",
    "    '''Predicts the probabilities for a new model\n",
    "    Args:\n",
    "        model (sklearn.multiclass.OneVsRestClassifier): binary logistic regression model\n",
    "        encoder (sklearn.preprocessing._encoders.OneHotEncoder): encoder for categorical variables\n",
    "        cat_inputs (list): categorical inputs of individual\n",
    "        trans_price (float): birth year for individual\n",
    "    Returns:\n",
    "        prediction (numpy.ndarray): probability of profitable investment\n",
    "    '''\n",
    "    test_new = transform(encoder, cat_inputs, trans_price)\n",
    "    prediction = model.predict_proba(test_new)\n",
    "    prediction = prediction[1]\n",
    "\n",
    "    return prediction\n",
    "m, e = get_model('../models/model.pkl','../models/encoder.pkl')"
   ]
  },
  {
   "cell_type": "code",
   "execution_count": null,
   "metadata": {},
   "outputs": [],
   "source": []
  }
 ],
 "metadata": {
  "language_info": {
   "name": "python"
  },
  "orig_nbformat": 4
 },
 "nbformat": 4,
 "nbformat_minor": 2
}
